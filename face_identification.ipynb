{
 "cells": [
  {
   "cell_type": "code",
   "execution_count": 4,
   "id": "fedf92dc",
   "metadata": {},
   "outputs": [],
   "source": [
    "import os\n",
    "import cv2\n",
    "import numpy as np\n",
    "import matplotlib.pyplot as plt\n",
    "from insightface.app import FaceAnalysis"
   ]
  },
  {
   "cell_type": "markdown",
   "id": "5c9ec1cb",
   "metadata": {},
   "source": [
    "##### Create face bank"
   ]
  },
  {
   "cell_type": "code",
   "execution_count": null,
   "id": "cad7c4e2",
   "metadata": {},
   "outputs": [],
   "source": [
    "app = FaceAnalysis(name=\"buffalo_s\", providers=['CUDAExecutionProvider'])\n",
    "app.prepare(ctx_id=0, det_size=(640, 640))"
   ]
  },
  {
   "cell_type": "code",
   "execution_count": null,
   "id": "fe030a98",
   "metadata": {},
   "outputs": [
    {
     "name": "stdout",
     "output_type": "stream",
     "text": [
      "Buffon\n",
      "Djokovic\n",
      "Messi\n"
     ]
    }
   ],
   "source": [
    "face_bank_path = \"./face_bank/\"\n",
    "\n",
    "for folder_name in os.listdir(face_bank_path):\n",
    "    print(folder_name)"
   ]
  }
 ],
 "metadata": {
  "kernelspec": {
   "display_name": "Python 3",
   "language": "python",
   "name": "python3"
  },
  "language_info": {
   "codemirror_mode": {
    "name": "ipython",
    "version": 3
   },
   "file_extension": ".py",
   "mimetype": "text/x-python",
   "name": "python",
   "nbconvert_exporter": "python",
   "pygments_lexer": "ipython3",
   "version": "3.12.9"
  }
 },
 "nbformat": 4,
 "nbformat_minor": 5
}
