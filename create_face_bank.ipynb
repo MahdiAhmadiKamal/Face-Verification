{
 "cells": [
  {
   "cell_type": "code",
   "execution_count": 1,
   "id": "fedf92dc",
   "metadata": {},
   "outputs": [],
   "source": [
    "import os\n",
    "import cv2\n",
    "import numpy as np\n",
    "import matplotlib.pyplot as plt\n",
    "from insightface.app import FaceAnalysis"
   ]
  },
  {
   "cell_type": "markdown",
   "id": "5c9ec1cb",
   "metadata": {},
   "source": [
    "##### Create face bank"
   ]
  },
  {
   "cell_type": "code",
   "execution_count": null,
   "id": "cad7c4e2",
   "metadata": {},
   "outputs": [],
   "source": [
    "app = FaceAnalysis(name=\"buffalo_s\", providers=['CUDAExecutionProvider'])\n",
    "app.prepare(ctx_id=0, det_size=(640, 640))"
   ]
  },
  {
   "cell_type": "code",
   "execution_count": 3,
   "id": "fe030a98",
   "metadata": {},
   "outputs": [
    {
     "name": "stdout",
     "output_type": "stream",
     "text": [
      "Warning: more than one face detected in image: ./face_bank/Buffon\\image.jpg\n"
     ]
    }
   ],
   "source": [
    "face_bank_path = \"./face_bank/\"\n",
    "\n",
    "face_bank = []\n",
    "for person_name in os.listdir(face_bank_path):\n",
    "    folder_path = os.path.join(face_bank_path, person_name)\n",
    "    if os.path.isdir(folder_path):\n",
    "        # print(folder_path)\n",
    "        for file_name in os.listdir(folder_path):\n",
    "            file_path = os.path.join(folder_path, file_name)\n",
    "            # print(file_path)\n",
    "            image = cv2.imread(file_path)\n",
    "            image = cv2.cvtColor(image, cv2.COLOR_BGR2RGB)\n",
    "            result = app.get(image)\n",
    "\n",
    "            if len(result) > 1:\n",
    "                print(f\"Warning: more than one face detected in image: {file_path}\")\n",
    "                continue\n",
    "\n",
    "            embedding = result[0][\"embedding\"]\n",
    "            dict = {\"name\": person_name, \"embedding\": embedding}\n",
    "            face_bank.append(dict)\n",
    "\n",
    "# print(face_bank)\n",
    "np.save(\"face_bank.npy\", face_bank)"
   ]
  }
 ],
 "metadata": {
  "kernelspec": {
   "display_name": "Python 3",
   "language": "python",
   "name": "python3"
  },
  "language_info": {
   "codemirror_mode": {
    "name": "ipython",
    "version": 3
   },
   "file_extension": ".py",
   "mimetype": "text/x-python",
   "name": "python",
   "nbconvert_exporter": "python",
   "pygments_lexer": "ipython3",
   "version": "3.12.9"
  }
 },
 "nbformat": 4,
 "nbformat_minor": 5
}
